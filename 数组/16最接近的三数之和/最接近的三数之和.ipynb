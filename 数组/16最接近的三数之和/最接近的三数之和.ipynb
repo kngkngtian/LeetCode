{
 "cells": [
  {
   "cell_type": "markdown",
   "metadata": {},
   "source": [
    "给定一个包括 n 个整数的数组 nums 和 一个目标值 target。找出 nums 中的三个整数，使得它们的和与 target 最接近。返回这三个数的和。假定每组输入只存在唯一答案。\n",
    "\n",
    "---\n",
    "> 例如，给定数组 nums = [-1，2，1，-4], 和 target = 1.\n",
    "\n",
    "> 与 target 最接近的三个数的和为 2. (-1 + 2 + 1 = 2)."
   ]
  },
  {
   "cell_type": "markdown",
   "metadata": {},
   "source": [
    "* 类似于第15题，不过这里的和变成了给定的target值，思想上是一样的，不过要注意边界条件，需要比较的值"
   ]
  },
  {
   "cell_type": "code",
   "execution_count": null,
   "metadata": {},
   "outputs": [],
   "source": [
    "class Solution:\n",
    "    def threeSumClosest(self, nums: List[int], target: int) -> int:\n",
    "        nums.sort()\n",
    "        i, j, k = 0, 1, len(nums) - 1\n",
    "        res = nums[i] + nums[j] + nums[k]\n",
    "        while i in range(len(nums) - 2):\n",
    "            j = i + 1\n",
    "            k = len(nums) - 1\n",
    "            while j < k:\n",
    "                if abs(nums[i] + nums[j] + nums[k] - target) < abs(res - target):\n",
    "                    res = nums[i] + nums[j] + nums[k]\n",
    "                if res == target:\n",
    "                    return res\n",
    "                elif nums[i] + nums[j] + nums[k] > target:\n",
    "                    k -= 1\n",
    "                elif nums[i] + nums[j] + nums[k] < target:\n",
    "                    j += 1\n",
    "            i += 1\n",
    "        return res"
   ]
  }
 ],
 "metadata": {
  "kernelspec": {
   "display_name": "Python 3",
   "language": "python",
   "name": "python3"
  },
  "language_info": {
   "codemirror_mode": {
    "name": "ipython",
    "version": 3
   },
   "file_extension": ".py",
   "mimetype": "text/x-python",
   "name": "python",
   "nbconvert_exporter": "python",
   "pygments_lexer": "ipython3",
   "version": "3.7.3"
  }
 },
 "nbformat": 4,
 "nbformat_minor": 2
}

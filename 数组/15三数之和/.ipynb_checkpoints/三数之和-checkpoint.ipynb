{
 "cells": [
  {
   "cell_type": "markdown",
   "metadata": {},
   "source": [
    "给定一个包含 n 个整数的数组 nums，判断 nums 中是否存在三个元素 a，b，c ，使得 a + b + c = 0 ？找出所有满足条件且不重复的三元组。\n",
    "\n",
    "**注意：**答案中不可以包含重复的三元组。\n",
    "\n",
    "> 例如, 给定数组 nums = [-1, 0, 1, 2, -1, -4]，\n",
    ">\n",
    "> 满足要求的三元组集合为：\n",
    "> [\n",
    ">   [-1, 0, 1],\n",
    ">   [-1, -1, 2]\n",
    "> ]"
   ]
  },
  {
   "cell_type": "markdown",
   "metadata": {},
   "source": [
    "**思路：**\n",
    "\n",
    "类似于两数之和，但此题要固定一个特殊值作为所需求和对象，选择固定最小值。先进行排序**O(NlogN)** \n",
    "设双指针从后面第一个与最后向中间靠拢，过滤相同大小元素。\n",
    "双指针复杂度**O(N)**，固定指针**O(N)**，时间复杂度共**O(N²)**。空间复杂度**O(1)**。"
   ]
  },
  {
   "cell_type": "code",
   "execution_count": null,
   "metadata": {},
   "outputs": [],
   "source": [
    "class Solution:\n",
    "    def threeSum(self, nums: List[int]) -> List[List[int]]:\n",
    "        nums.sort()\n",
    "        res = []\n",
    "        i, , k = 0, 1, len(nums) - 1\n",
    "        while i in range(len(nums) - 1):\n",
    "            j = i + 1\n",
    "            k = len(nums) - 1\n",
    "            while j < k:\n",
    "                s = nums[i] + nums[j] + nums[k]\n",
    "                if s == 0:\n",
    "                    res.append([nums[i], nums[j], nums[k]])\n",
    "                    j += 1\n",
    "                    k -= 1\n",
    "                    while j < k and nums[j] == nums[j - 1]: j += 1\n",
    "                    while j < k and nums[k] == nums[k + 1]: k -= 1\n",
    "                elif s < 0:\n",
    "                    j += 1\n",
    "                else:\n",
    "                    k -= 1\n",
    "            i += 1\n",
    "            while nums[i] == nums[i - 1] and i < len(nums) - 1:\n",
    "                i += 1\n",
    "        return res"
   ]
  }
 ],
 "metadata": {
  "kernelspec": {
   "display_name": "Python 3",
   "language": "python",
   "name": "python3"
  },
  "language_info": {
   "codemirror_mode": {
    "name": "ipython",
    "version": 3
   },
   "file_extension": ".py",
   "mimetype": "text/x-python",
   "name": "python",
   "nbconvert_exporter": "python",
   "pygments_lexer": "ipython3",
   "version": "3.7.3"
  }
 },
 "nbformat": 4,
 "nbformat_minor": 2
}

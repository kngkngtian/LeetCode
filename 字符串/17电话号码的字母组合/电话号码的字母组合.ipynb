{
 "cells": [
  {
   "cell_type": "markdown",
   "metadata": {},
   "source": [
    "给定一个仅包含数字 2-9 的字符串，返回所有它能表示的字母组合。\n",
    "\n",
    "给出数字到字母的映射如下（与电话按键相同）。注意 1 不对应任何字母。\n",
    "\n",
    "\n",
    "\n",
    "示例:\n",
    "\n",
    ">输入：\"23\"\n",
    "输出：[\"ad\", \"ae\", \"af\", \"bd\", \"be\", \"bf\", \"cd\", \"ce\", \"cf\"].\n",
    "说明:\n",
    "尽管上面的答案是按字典序排列的，但是你可以任意选择答案输出的顺序。  \n",
    "  \n",
    "\n",
    "> https://leetcode-cn.com/problems/letter-combinations-of-a-phone-number"
   ]
  },
  {
   "cell_type": "markdown",
   "metadata": {},
   "source": [
    "**pythonic YES**"
   ]
  },
  {
   "cell_type": "code",
   "execution_count": null,
   "metadata": {},
   "outputs": [],
   "source": [
    "class Solution:\n",
    "    def letterCombinations(self, digits: str) -> List[str]:\n",
    "        dic = {'1': None,\n",
    "              '2': 'abc',\n",
    "              '3': 'def',\n",
    "              '4': 'ghi',\n",
    "              '5': 'jkl',\n",
    "              '6': 'mno',\n",
    "              '7': 'pqrs',\n",
    "              '8': 'tuv',\n",
    "              '9': 'wxyz'}\n",
    "        res = ['']\n",
    "        if not digits:\n",
    "            return None\n",
    "        for i in digits:\n",
    "            res = [x + y for x in res for y in dic[i]]\n",
    "        return res\n",
    "        "
   ]
  }
 ],
 "metadata": {
  "kernelspec": {
   "display_name": "Python 3",
   "language": "python",
   "name": "python3"
  },
  "language_info": {
   "codemirror_mode": {
    "name": "ipython",
    "version": 3
   },
   "file_extension": ".py",
   "mimetype": "text/x-python",
   "name": "python",
   "nbconvert_exporter": "python",
   "pygments_lexer": "ipython3",
   "version": "3.7.3"
  }
 },
 "nbformat": 4,
 "nbformat_minor": 2
}
